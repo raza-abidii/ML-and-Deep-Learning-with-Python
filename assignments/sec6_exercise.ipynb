{
 "cells": [
  {
   "cell_type": "code",
   "execution_count": 2,
   "id": "b5e250c0",
   "metadata": {},
   "outputs": [],
   "source": [
    "import numpy as np\n",
    "import pandas as pd"
   ]
  },
  {
   "cell_type": "markdown",
   "id": "014652ec",
   "metadata": {},
   "source": [
    "Convert celcius to fahrenheit"
   ]
  },
  {
   "cell_type": "code",
   "execution_count": 6,
   "id": "79e14d35",
   "metadata": {},
   "outputs": [
    {
     "name": "stdout",
     "output_type": "stream",
     "text": [
      "212.0\n"
     ]
    }
   ],
   "source": [
    "def celcius_to_fahrenheit(celsius):\n",
    "    return (celsius * 9/5) + 32\n",
    "def fahrenheit_to_celcius(fahrenheit):\n",
    "    return (fahrenheit - 32) * 5/9\n",
    "\n",
    "print(celcius_to_fahrenheit(100.0))"
   ]
  },
  {
   "cell_type": "markdown",
   "id": "7e08d53b",
   "metadata": {},
   "source": [
    "Area of a rectangle"
   ]
  },
  {
   "cell_type": "code",
   "execution_count": 7,
   "id": "665a0ca3",
   "metadata": {},
   "outputs": [
    {
     "name": "stdout",
     "output_type": "stream",
     "text": [
      "Area of rectangle is 420.0\n"
     ]
    }
   ],
   "source": [
    "length = float(input(\"Enter length in cm: \"))\n",
    "breath = float(input(\"Enter breadth in cm: \"))\n",
    "area = length * breath\n",
    "print(f\"Area of rectangle is {area}\")"
   ]
  },
  {
   "cell_type": "markdown",
   "id": "daf9357d",
   "metadata": {},
   "source": [
    "Distance Covered by a Vehicle"
   ]
  },
  {
   "cell_type": "code",
   "execution_count": 8,
   "id": "b942b243",
   "metadata": {},
   "outputs": [
    {
     "name": "stdout",
     "output_type": "stream",
     "text": [
      "Distance covered by the vehcial is  118.0\n"
     ]
    }
   ],
   "source": [
    "speed = float(input(\"Enter speed of the vehical: \"))\n",
    "time = float(input(\"Enter time taken for the vehical to reach the destination: \"))\n",
    "distance = speed * time\n",
    "print(\"Distance covered by the vehcial is \", distance)"
   ]
  },
  {
   "cell_type": "markdown",
   "id": "381f467a",
   "metadata": {},
   "source": [
    "Number of Rounds of Lift"
   ]
  },
  {
   "cell_type": "code",
   "execution_count": 11,
   "id": "371d00c5",
   "metadata": {},
   "outputs": [
    {
     "name": "stdout",
     "output_type": "stream",
     "text": [
      "4\n"
     ]
    }
   ],
   "source": [
    "n = int(input(\"Number of people: \"))\n",
    "capacity = int(input(\"Total capacity of the lift: \"))\n",
    "\n",
    "if n % capacity == 0:\n",
    "    print(n // capacity)\n",
    "else:\n",
    "    print((n // capacity) + 1)"
   ]
  },
  {
   "cell_type": "markdown",
   "id": "c85413be",
   "metadata": {},
   "source": [
    "Line Equation"
   ]
  },
  {
   "cell_type": "code",
   "execution_count": 15,
   "id": "13d63609",
   "metadata": {},
   "outputs": [
    {
     "name": "stdout",
     "output_type": "stream",
     "text": [
      "Line equation =  19.0\n"
     ]
    }
   ],
   "source": [
    "slope = float(input(\"Slope of a line: \"))\n",
    "intercept = float(input(\"Intercept of a line: \"))\n",
    "x = float(input(\"The value of x for which y needs to be calculated: \"))\n",
    "\n",
    "print(\"Line equation = \", (slope * x) + intercept)"
   ]
  },
  {
   "cell_type": "code",
   "execution_count": null,
   "id": "ebcc88d1",
   "metadata": {},
   "outputs": [],
   "source": []
  }
 ],
 "metadata": {
  "kernelspec": {
   "display_name": "base",
   "language": "python",
   "name": "python3"
  },
  "language_info": {
   "codemirror_mode": {
    "name": "ipython",
    "version": 3
   },
   "file_extension": ".py",
   "mimetype": "text/x-python",
   "name": "python",
   "nbconvert_exporter": "python",
   "pygments_lexer": "ipython3",
   "version": "3.12.7"
  }
 },
 "nbformat": 4,
 "nbformat_minor": 5
}
